{
 "cells": [
  {
   "cell_type": "code",
   "execution_count": 87,
   "metadata": {},
   "outputs": [],
   "source": [
    "# Import necessary modules\n",
    "import pandas as pd\n",
    "from sklearn.ensemble import RandomForestClassifier\n",
    "from imblearn.over_sampling import RandomOverSampler\n",
    "from sklearn.metrics import classification_report, confusion_matrix, balanced_accuracy_score\n",
    "from sklearn.model_selection import train_test_split\n",
    "from sklearn.preprocessing import StandardScaler\n",
    "from sklearn.model_selection import GridSearchCV\n",
    "from pathlib import Path\n",
    "import seaborn as sns\n",
    "import matplotlib.pyplot as plt"
   ]
  },
  {
   "cell_type": "code",
   "execution_count": 88,
   "metadata": {},
   "outputs": [
    {
     "data": {
      "text/html": [
       "<div>\n",
       "<style scoped>\n",
       "    .dataframe tbody tr th:only-of-type {\n",
       "        vertical-align: middle;\n",
       "    }\n",
       "\n",
       "    .dataframe tbody tr th {\n",
       "        vertical-align: top;\n",
       "    }\n",
       "\n",
       "    .dataframe thead th {\n",
       "        text-align: right;\n",
       "    }\n",
       "</style>\n",
       "<table border=\"1\" class=\"dataframe\">\n",
       "  <thead>\n",
       "    <tr style=\"text-align: right;\">\n",
       "      <th></th>\n",
       "      <th>Patient Age</th>\n",
       "      <th>Genes in mother's side</th>\n",
       "      <th>Inherited from father</th>\n",
       "      <th>Maternal gene</th>\n",
       "      <th>Paternal gene</th>\n",
       "      <th>Blood cell count (mcL)</th>\n",
       "      <th>Status</th>\n",
       "      <th>Respiratory Rate (breaths/min)</th>\n",
       "      <th>Heart Rate (rates/min</th>\n",
       "      <th>Follow-up</th>\n",
       "      <th>...</th>\n",
       "      <th>H/O serious maternal illness</th>\n",
       "      <th>H/O radiation exposure (x-ray)</th>\n",
       "      <th>H/O substance abuse</th>\n",
       "      <th>Assisted conception IVF/ART</th>\n",
       "      <th>History of anomalies in previous pregnancies</th>\n",
       "      <th>No. of previous abortion</th>\n",
       "      <th>Birth defects</th>\n",
       "      <th>White Blood cell count (thousand per microliter)</th>\n",
       "      <th>Blood test result</th>\n",
       "      <th>Genetic Disorder</th>\n",
       "    </tr>\n",
       "  </thead>\n",
       "  <tbody>\n",
       "    <tr>\n",
       "      <th>0</th>\n",
       "      <td>11.0</td>\n",
       "      <td>No</td>\n",
       "      <td>No</td>\n",
       "      <td>Yes</td>\n",
       "      <td>No</td>\n",
       "      <td>5.209058</td>\n",
       "      <td>Alive</td>\n",
       "      <td>Tachypnea</td>\n",
       "      <td>Tachycardia</td>\n",
       "      <td>Low</td>\n",
       "      <td>...</td>\n",
       "      <td>Yes</td>\n",
       "      <td>No</td>\n",
       "      <td>No</td>\n",
       "      <td>No</td>\n",
       "      <td>Yes</td>\n",
       "      <td>0.0</td>\n",
       "      <td>Multiple</td>\n",
       "      <td>6.669552</td>\n",
       "      <td>slightly abnormal</td>\n",
       "      <td>Mitochondrial genetic inheritance disorders</td>\n",
       "    </tr>\n",
       "    <tr>\n",
       "      <th>1</th>\n",
       "      <td>4.0</td>\n",
       "      <td>No</td>\n",
       "      <td>Yes</td>\n",
       "      <td>Yes</td>\n",
       "      <td>Yes</td>\n",
       "      <td>4.752272</td>\n",
       "      <td>Alive</td>\n",
       "      <td>Tachypnea</td>\n",
       "      <td>Tachycardia</td>\n",
       "      <td>Low</td>\n",
       "      <td>...</td>\n",
       "      <td>No</td>\n",
       "      <td>No</td>\n",
       "      <td>No</td>\n",
       "      <td>Yes</td>\n",
       "      <td>Yes</td>\n",
       "      <td>1.0</td>\n",
       "      <td>Multiple</td>\n",
       "      <td>6.397702</td>\n",
       "      <td>abnormal</td>\n",
       "      <td>Multifactorial genetic inheritance disorders</td>\n",
       "    </tr>\n",
       "    <tr>\n",
       "      <th>2</th>\n",
       "      <td>6.0</td>\n",
       "      <td>Yes</td>\n",
       "      <td>No</td>\n",
       "      <td>Yes</td>\n",
       "      <td>No</td>\n",
       "      <td>4.620420</td>\n",
       "      <td>Alive</td>\n",
       "      <td>Tachypnea</td>\n",
       "      <td>Tachycardia</td>\n",
       "      <td>High</td>\n",
       "      <td>...</td>\n",
       "      <td>Yes</td>\n",
       "      <td>Yes</td>\n",
       "      <td>Not applicable</td>\n",
       "      <td>No</td>\n",
       "      <td>No</td>\n",
       "      <td>3.0</td>\n",
       "      <td>Multiple</td>\n",
       "      <td>3.000000</td>\n",
       "      <td>slightly abnormal</td>\n",
       "      <td>Mitochondrial genetic inheritance disorders</td>\n",
       "    </tr>\n",
       "    <tr>\n",
       "      <th>3</th>\n",
       "      <td>10.0</td>\n",
       "      <td>Yes</td>\n",
       "      <td>Yes</td>\n",
       "      <td>Yes</td>\n",
       "      <td>No</td>\n",
       "      <td>4.751452</td>\n",
       "      <td>Deceased</td>\n",
       "      <td>Normal (30-60)</td>\n",
       "      <td>Tachycardia</td>\n",
       "      <td>Low</td>\n",
       "      <td>...</td>\n",
       "      <td>No</td>\n",
       "      <td>Yes</td>\n",
       "      <td>No</td>\n",
       "      <td>Yes</td>\n",
       "      <td>Yes</td>\n",
       "      <td>3.0</td>\n",
       "      <td>Singular</td>\n",
       "      <td>9.382407</td>\n",
       "      <td>abnormal</td>\n",
       "      <td>Mitochondrial genetic inheritance disorders</td>\n",
       "    </tr>\n",
       "    <tr>\n",
       "      <th>4</th>\n",
       "      <td>6.0</td>\n",
       "      <td>No</td>\n",
       "      <td>Yes</td>\n",
       "      <td>Yes</td>\n",
       "      <td>Yes</td>\n",
       "      <td>4.876896</td>\n",
       "      <td>Deceased</td>\n",
       "      <td>Tachypnea</td>\n",
       "      <td>Normal</td>\n",
       "      <td>Low</td>\n",
       "      <td>...</td>\n",
       "      <td>Yes</td>\n",
       "      <td>No</td>\n",
       "      <td>No</td>\n",
       "      <td>Yes</td>\n",
       "      <td>No</td>\n",
       "      <td>1.0</td>\n",
       "      <td>Singular</td>\n",
       "      <td>7.370477</td>\n",
       "      <td>normal</td>\n",
       "      <td>Single-gene inheritance diseases</td>\n",
       "    </tr>\n",
       "  </tbody>\n",
       "</table>\n",
       "<p>5 rows × 25 columns</p>\n",
       "</div>"
      ],
      "text/plain": [
       "   Patient Age Genes in mother's side Inherited from father Maternal gene  \\\n",
       "0         11.0                     No                    No           Yes   \n",
       "1          4.0                     No                   Yes           Yes   \n",
       "2          6.0                    Yes                    No           Yes   \n",
       "3         10.0                    Yes                   Yes           Yes   \n",
       "4          6.0                     No                   Yes           Yes   \n",
       "\n",
       "  Paternal gene  Blood cell count (mcL)    Status  \\\n",
       "0            No                5.209058     Alive   \n",
       "1           Yes                4.752272     Alive   \n",
       "2            No                4.620420     Alive   \n",
       "3            No                4.751452  Deceased   \n",
       "4           Yes                4.876896  Deceased   \n",
       "\n",
       "  Respiratory Rate (breaths/min) Heart Rate (rates/min Follow-up  ...  \\\n",
       "0                      Tachypnea           Tachycardia       Low  ...   \n",
       "1                      Tachypnea           Tachycardia       Low  ...   \n",
       "2                      Tachypnea           Tachycardia      High  ...   \n",
       "3                 Normal (30-60)           Tachycardia       Low  ...   \n",
       "4                      Tachypnea                Normal       Low  ...   \n",
       "\n",
       "  H/O serious maternal illness H/O radiation exposure (x-ray)  \\\n",
       "0                          Yes                             No   \n",
       "1                           No                             No   \n",
       "2                          Yes                            Yes   \n",
       "3                           No                            Yes   \n",
       "4                          Yes                             No   \n",
       "\n",
       "  H/O substance abuse Assisted conception IVF/ART  \\\n",
       "0                  No                          No   \n",
       "1                  No                         Yes   \n",
       "2      Not applicable                          No   \n",
       "3                  No                         Yes   \n",
       "4                  No                         Yes   \n",
       "\n",
       "  History of anomalies in previous pregnancies No. of previous abortion  \\\n",
       "0                                          Yes                      0.0   \n",
       "1                                          Yes                      1.0   \n",
       "2                                           No                      3.0   \n",
       "3                                          Yes                      3.0   \n",
       "4                                           No                      1.0   \n",
       "\n",
       "  Birth defects White Blood cell count (thousand per microliter)  \\\n",
       "0      Multiple                                         6.669552   \n",
       "1      Multiple                                         6.397702   \n",
       "2      Multiple                                         3.000000   \n",
       "3      Singular                                         9.382407   \n",
       "4      Singular                                         7.370477   \n",
       "\n",
       "   Blood test result                              Genetic Disorder  \n",
       "0  slightly abnormal   Mitochondrial genetic inheritance disorders  \n",
       "1           abnormal  Multifactorial genetic inheritance disorders  \n",
       "2  slightly abnormal   Mitochondrial genetic inheritance disorders  \n",
       "3           abnormal   Mitochondrial genetic inheritance disorders  \n",
       "4             normal              Single-gene inheritance diseases  \n",
       "\n",
       "[5 rows x 25 columns]"
      ]
     },
     "execution_count": 88,
     "metadata": {},
     "output_type": "execute_result"
    }
   ],
   "source": [
    "# Import our input dataset\n",
    "GeneticDisorder_df = pd.read_csv(\n",
    "    Path(r\"Resources\\genetic_disorder.csv\")\n",
    ")\n",
    "GeneticDisorder_df.head()"
   ]
  },
  {
   "cell_type": "code",
   "execution_count": 89,
   "metadata": {},
   "outputs": [],
   "source": [
    "# Drop unnecessary columns\n",
    "columns_to_remove = ['Patient Id', 'Patient First Name', 'Family Name', 'Father\\'s name', 'Institute Name', 'Status', 'Location of Institute','Test 1','Test 2','Test 3','Test 4','Test 5','Symptom 1','Symptom 2', 'Symptom 3', 'Symptom 4', 'Symptom 5','Parental consent', 'No. of previous abortion', 'Disorder Subclass']\n",
    "columns_to_remove_train = [col for col in columns_to_remove if col in GeneticDisorder_df.columns]\n",
    "GeneticDisorder_cleaned_df = GeneticDisorder_df.drop(columns=columns_to_remove_train)"
   ]
  },
  {
   "cell_type": "code",
   "execution_count": 90,
   "metadata": {},
   "outputs": [],
   "source": [
    "# Drop rows with missing values\n",
    "GeneticDisorder_dropped_df = GeneticDisorder_cleaned_df.dropna()"
   ]
  },
  {
   "cell_type": "code",
   "execution_count": 91,
   "metadata": {},
   "outputs": [],
   "source": [
    "# Identify non-numeric columns\n",
    "# non_numeric_columns = GeneticDisorder_cleaned_df.select_dtypes(exclude=['float64', 'int64', 'bool']).columns\n",
    "\n",
    "# Display unique values in non-numeric columns\n",
    "# for column in non_numeric_columns:\n",
    "#    print(f\"Unique values in {column}: {GeneticDisorder_cleaned_df[column].unique()}\")"
   ]
  },
  {
   "cell_type": "code",
   "execution_count": 92,
   "metadata": {},
   "outputs": [],
   "source": [
    "# Replace NaN values with the median for numerical columns\n",
    "# numerical_cols = GeneticDisorder_cleaned_df.select_dtypes(include='number').columns\n",
    "# GeneticDisorder_cleaned_df[numerical_cols] = GeneticDisorder_cleaned_df[numerical_cols].apply(lambda x: x.fillna(x.median()))\n",
    "\n",
    "# Replace NaN values with the most frequent entry for categorical columns\n",
    "# categorical_cols = GeneticDisorder_cleaned_df.select_dtypes(exclude='number').columns\n",
    "# GeneticDisorder_cleaned_df[categorical_cols] = GeneticDisorder_cleaned_df[categorical_cols].apply(lambda x: x.fillna(x.mode().iloc[0]))"
   ]
  },
  {
   "cell_type": "code",
   "execution_count": 93,
   "metadata": {},
   "outputs": [],
   "source": [
    "# Replace '-' with 'Not applicable' in the entire DataFrame\n",
    "GeneticDisorder_dropped_df = GeneticDisorder_dropped_df.copy()\n",
    "GeneticDisorder_dropped_df.replace('-', 'Not applicable', inplace=True)"
   ]
  },
  {
   "cell_type": "code",
   "execution_count": 94,
   "metadata": {},
   "outputs": [],
   "source": [
    "# Split the data into X (features) and y (target)\n",
    "y = GeneticDisorder_dropped_df['Genetic Disorder']\n",
    "X = GeneticDisorder_dropped_df.drop(columns=['Genetic Disorder'])"
   ]
  },
  {
   "cell_type": "code",
   "execution_count": 95,
   "metadata": {},
   "outputs": [],
   "source": [
    "# Identify categorical columns and perform one-hot encoding\n",
    "categorical_columns = X.select_dtypes(include=['object']).columns\n",
    "GeneticDisorder_encoded_df = pd.get_dummies(X, columns=categorical_columns, drop_first=True)"
   ]
  },
  {
   "cell_type": "code",
   "execution_count": 96,
   "metadata": {},
   "outputs": [],
   "source": [
    "# Split the data into training and testing sets\n",
    "X_train, X_test, y_train, y_test = train_test_split(GeneticDisorder_encoded_df, y, random_state=1, stratify=y)"
   ]
  },
  {
   "cell_type": "code",
   "execution_count": 97,
   "metadata": {},
   "outputs": [],
   "source": [
    "# Apply oversampling to the training data\n",
    "oversampler = RandomOverSampler(random_state=1)\n",
    "X_train_resampled, y_train_resampled = oversampler.fit_resample(X_train, y_train)"
   ]
  },
  {
   "cell_type": "code",
   "execution_count": 98,
   "metadata": {},
   "outputs": [],
   "source": [
    "# Scale the data using StandardScaler\n",
    "scaler = StandardScaler()\n",
    "X_train_scaled = scaler.fit_transform(X_train)\n",
    "X_test_scaled = scaler.transform(X_test)"
   ]
  },
  {
   "cell_type": "code",
   "execution_count": 99,
   "metadata": {},
   "outputs": [],
   "source": [
    "# Create a Random Forest classifier with hyperparameter tuning\n",
    "param_grid = {\n",
    "    'n_estimators': [50, 100, 200],\n",
    "    'max_depth': [None, 10, 20],\n",
    "    'min_samples_split': [2, 5, 10]\n",
    "}\n",
    "\n",
    "grid_search = GridSearchCV(RandomForestClassifier(random_state=1), param_grid, cv=5)\n",
    "grid_search.fit(X_train_scaled, y_train)\n",
    "\n",
    "best_rf_model = grid_search.best_estimator_"
   ]
  },
  {
   "cell_type": "code",
   "execution_count": 100,
   "metadata": {},
   "outputs": [
    {
     "name": "stdout",
     "output_type": "stream",
     "text": [
      "Training Data Score: 0.8024142312579415\n",
      "Testing Data Score: 0.5050825921219823\n"
     ]
    }
   ],
   "source": [
    "# Evaluate the model\n",
    "train_score = best_rf_model.score(X_train_scaled, y_train)\n",
    "test_score = best_rf_model.score(X_test_scaled, y_test)\n",
    "\n",
    "print(f\"Training Data Score: {train_score}\")\n",
    "print(f\"Testing Data Score: {test_score}\")"
   ]
  },
  {
   "cell_type": "code",
   "execution_count": 101,
   "metadata": {},
   "outputs": [],
   "source": [
    "# Generate predictions\n",
    "rf_training_predictions = best_rf_model.predict(X_train_scaled)\n",
    "rf_testing_predictions = best_rf_model.predict(X_test_scaled)"
   ]
  },
  {
   "cell_type": "code",
   "execution_count": 102,
   "metadata": {},
   "outputs": [
    {
     "name": "stdout",
     "output_type": "stream",
     "text": [
      "Confusion Matrix for Random Forest model (Training):\n",
      "[[2417    0    3]\n",
      " [ 437    0   47]\n",
      " [ 446    0 1372]]\n"
     ]
    }
   ],
   "source": [
    "# Create confusion matrix for training data\n",
    "rf_training_matrix = confusion_matrix(y_train, rf_training_predictions)\n",
    "print(\"Confusion Matrix for Random Forest model (Training):\")\n",
    "print(rf_training_matrix)"
   ]
  },
  {
   "cell_type": "code",
   "execution_count": 103,
   "metadata": {},
   "outputs": [
    {
     "name": "stdout",
     "output_type": "stream",
     "text": [
      "Confusion Matrix for Random Forest model (Testing):\n",
      "[[735   0  71]\n",
      " [143   0  19]\n",
      " [546   0  60]]\n"
     ]
    }
   ],
   "source": [
    "# Create confusion matrix for testing data\n",
    "rf_testing_matrix = confusion_matrix(y_test, rf_testing_predictions)\n",
    "print(\"Confusion Matrix for Random Forest model (Testing):\")\n",
    "print(rf_testing_matrix)"
   ]
  },
  {
   "cell_type": "code",
   "execution_count": 104,
   "metadata": {},
   "outputs": [
    {
     "name": "stdout",
     "output_type": "stream",
     "text": [
      "Classification Report for Random Forest model (Training):\n",
      "                                              precision    recall  f1-score   support\n",
      "\n",
      " Mitochondrial genetic inheritance disorders       0.73      1.00      0.85      2420\n",
      "Multifactorial genetic inheritance disorders       0.00      0.00      0.00       484\n",
      "            Single-gene inheritance diseases       0.96      0.75      0.85      1818\n",
      "\n",
      "                                    accuracy                           0.80      4722\n",
      "                                   macro avg       0.57      0.58      0.56      4722\n",
      "                                weighted avg       0.75      0.80      0.76      4722\n",
      "\n"
     ]
    },
    {
     "name": "stderr",
     "output_type": "stream",
     "text": [
      "c:\\Users\\starl\\anaconda3\\lib\\site-packages\\sklearn\\metrics\\_classification.py:1471: UndefinedMetricWarning: Precision and F-score are ill-defined and being set to 0.0 in labels with no predicted samples. Use `zero_division` parameter to control this behavior.\n",
      "  _warn_prf(average, modifier, msg_start, len(result))\n",
      "c:\\Users\\starl\\anaconda3\\lib\\site-packages\\sklearn\\metrics\\_classification.py:1471: UndefinedMetricWarning: Precision and F-score are ill-defined and being set to 0.0 in labels with no predicted samples. Use `zero_division` parameter to control this behavior.\n",
      "  _warn_prf(average, modifier, msg_start, len(result))\n",
      "c:\\Users\\starl\\anaconda3\\lib\\site-packages\\sklearn\\metrics\\_classification.py:1471: UndefinedMetricWarning: Precision and F-score are ill-defined and being set to 0.0 in labels with no predicted samples. Use `zero_division` parameter to control this behavior.\n",
      "  _warn_prf(average, modifier, msg_start, len(result))\n"
     ]
    }
   ],
   "source": [
    "# Create classification report for training data\n",
    "rf_training_report = classification_report(y_train, rf_training_predictions)\n",
    "print(\"Classification Report for Random Forest model (Training):\")\n",
    "print(rf_training_report)"
   ]
  },
  {
   "cell_type": "code",
   "execution_count": 105,
   "metadata": {},
   "outputs": [
    {
     "name": "stdout",
     "output_type": "stream",
     "text": [
      "Classification Report for Random Forest model (Testing):\n",
      "                                              precision    recall  f1-score   support\n",
      "\n",
      " Mitochondrial genetic inheritance disorders       0.52      0.91      0.66       806\n",
      "Multifactorial genetic inheritance disorders       0.00      0.00      0.00       162\n",
      "            Single-gene inheritance diseases       0.40      0.10      0.16       606\n",
      "\n",
      "                                    accuracy                           0.51      1574\n",
      "                                   macro avg       0.31      0.34      0.27      1574\n",
      "                                weighted avg       0.42      0.51      0.40      1574\n",
      "\n"
     ]
    },
    {
     "name": "stderr",
     "output_type": "stream",
     "text": [
      "c:\\Users\\starl\\anaconda3\\lib\\site-packages\\sklearn\\metrics\\_classification.py:1471: UndefinedMetricWarning: Precision and F-score are ill-defined and being set to 0.0 in labels with no predicted samples. Use `zero_division` parameter to control this behavior.\n",
      "  _warn_prf(average, modifier, msg_start, len(result))\n",
      "c:\\Users\\starl\\anaconda3\\lib\\site-packages\\sklearn\\metrics\\_classification.py:1471: UndefinedMetricWarning: Precision and F-score are ill-defined and being set to 0.0 in labels with no predicted samples. Use `zero_division` parameter to control this behavior.\n",
      "  _warn_prf(average, modifier, msg_start, len(result))\n",
      "c:\\Users\\starl\\anaconda3\\lib\\site-packages\\sklearn\\metrics\\_classification.py:1471: UndefinedMetricWarning: Precision and F-score are ill-defined and being set to 0.0 in labels with no predicted samples. Use `zero_division` parameter to control this behavior.\n",
      "  _warn_prf(average, modifier, msg_start, len(result))\n"
     ]
    }
   ],
   "source": [
    "# Create classification report for testing data\n",
    "rf_testing_report = classification_report(y_test, rf_testing_predictions)\n",
    "print(\"Classification Report for Random Forest model (Testing):\")\n",
    "print(rf_testing_report)"
   ]
  },
  {
   "cell_type": "code",
   "execution_count": 106,
   "metadata": {},
   "outputs": [
    {
     "name": "stdout",
     "output_type": "stream",
     "text": [
      "The balanced_accuracy score of the Random Forest model: 0.33697352365509503\n"
     ]
    }
   ],
   "source": [
    "# Print the balanced_accuracy score of the model\n",
    "print(f\"The balanced_accuracy score of the Random Forest model: {balanced_accuracy_score(y_test, rf_testing_predictions)}\")\n"
   ]
  },
  {
   "cell_type": "code",
   "execution_count": 107,
   "metadata": {},
   "outputs": [
    {
     "data": {
      "image/png": "[encoded data removed]",
      "text/plain": [
       "<Figure size 800x600 with 2 Axes>"
      ]
     },
     "metadata": {},
     "output_type": "display_data"
    }
   ],
   "source": [
    "# Confusion Matrix Heatmap for Random Forest model\n",
    "plt.figure(figsize=(8, 6))\n",
    "heatmap = sns.heatmap(rf_testing_matrix, annot=True, fmt='d', cmap='Blues', cbar=False)\n",
    "plt.title('Confusion Matrix for Random Forest model (Genetic Disorder)')\n",
    "plt.xlabel('Predicted')\n",
    "plt.ylabel('Actual')\n",
    "\n",
    "# Add legend\n",
    "cbar = heatmap.figure.colorbar(heatmap.collections[0])\n",
    "cbar.set_label('Count', rotation=270, labelpad=15)\n",
    "\n",
    "plt.show()"
   ]
  },
  {
   "cell_type": "code",
   "execution_count": 108,
   "metadata": {},
   "outputs": [
    {
     "name": "stdout",
     "output_type": "stream",
     "text": [
      "Feature Importances:\n",
      "                                              Feature  Importance\n",
      "1                              Blood cell count (mcL)    0.163344\n",
      "2    White Blood cell count (thousand per microliter)    0.144156\n",
      "0                                         Patient Age    0.101735\n",
      "17                           Place of birth_Institute    0.024264\n",
      "24                    Assisted conception IVF/ART_Yes    0.024013\n",
      "26                             Birth defects_Singular    0.023913\n",
      "25   History of anomalies in previous pregnancies_Yes    0.023896\n",
      "3                          Genes in mother's side_Yes    0.023857\n",
      "9                                       Follow-up_Low    0.023820\n",
      "18         Folic acid details (peri-conceptional)_Yes    0.022929\n",
      "23                            H/O substance abuse_Yes    0.022602\n",
      "19                   H/O serious maternal illness_Yes    0.022530\n",
      "7            Respiratory Rate (breaths/min)_Tachypnea    0.022507\n",
      "6                                   Paternal gene_Yes    0.022452\n",
      "5                                   Maternal gene_Yes    0.022180\n",
      "8                   Heart Rate (rates/min_Tachycardia    0.022052\n",
      "22                 H/O substance abuse_Not applicable    0.021967\n",
      "27                     Blood test result_inconclusive    0.021806\n",
      "29                Blood test result_slightly abnormal    0.021586\n",
      "20      H/O radiation exposure (x-ray)_Not applicable    0.021387\n",
      "4                           Inherited from father_Yes    0.021316\n",
      "11                                        Gender_Male    0.021109\n",
      "21                 H/O radiation exposure (x-ray)_Yes    0.021001\n",
      "14                                 Birth asphyxia_Yes    0.020679\n",
      "15  Autopsy shows birth defect (if applicable)_Not...    0.020469\n",
      "28                           Blood test result_normal    0.020104\n",
      "13                       Birth asphyxia_Not available    0.019827\n",
      "10                                      Gender_Female    0.019779\n",
      "12                           Birth asphyxia_No record    0.019745\n",
      "16     Autopsy shows birth defect (if applicable)_Yes    0.018976\n"
     ]
    }
   ],
   "source": [
    "# Display feature importances\n",
    "feature_importances = best_rf_model.feature_importances_\n",
    "all_feature_names = GeneticDisorder_encoded_df.columns\n",
    "\n",
    "feature_importance_df = pd.DataFrame({'Feature': all_feature_names, 'Importance': feature_importances})\n",
    "feature_importance_df = feature_importance_df.sort_values(by='Importance', ascending=False)\n",
    "print(\"Feature Importances:\")\n",
    "print(feature_importance_df)"
   ]
  }
 ],
 "metadata": {
  "kernelspec": {
   "display_name": "base",
   "language": "python",
   "name": "python3"
  },
  "language_info": {
   "codemirror_mode": {
    "name": "ipython",
    "version": 3
   },
   "file_extension": ".py",
   "mimetype": "text/x-python",
   "name": "python",
   "nbconvert_exporter": "python",
   "pygments_lexer": "ipython3",
   "version": "3.10.9"
  }
 },
 "nbformat": 4,
 "nbformat_minor": 2
}
